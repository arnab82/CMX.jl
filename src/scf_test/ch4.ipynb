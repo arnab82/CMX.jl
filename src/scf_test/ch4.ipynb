{
 "cells": [
  {
   "cell_type": "code",
   "execution_count": 2,
   "metadata": {},
   "outputs": [
    {
     "name": "stdout",
     "output_type": "stream",
     "text": [
      "\n",
      "    C   0.63 0.63 0.63\n",
      "    H   1.26 1.26 0.0\n",
      "    H   0.0 1.26 1.26\n",
      "    H   1.26 0.0 1.26\n",
      "    H   -0.4  -0.4 -0.4\n",
      "    \n",
      "\n",
      "\n",
      "******** <class 'pyscf.scf.hf_symm.SymAdaptedROHF'> ********\n",
      "method = SymAdaptedROHF-ROHF-RHF\n",
      "initial guess = sad\n",
      "damping factor = 0\n",
      "level_shift factor = 0\n",
      "DIIS = <class 'pyscf.scf.diis.CDIIS'>\n",
      "diis_start_cycle = 1\n",
      "diis_space = 8\n",
      "SCF conv_tol = 1e-08\n",
      "SCF conv_tol_grad = 1e-05\n",
      "SCF max_cycles = 200\n",
      "direct_scf = True\n",
      "direct_scf_tol = 1e-13\n",
      "chkfile to save SCF result = scf.fchk\n",
      "max_memory 4000 MB (current use 125 MB)\n",
      "num. doubly occ = 5  num. singly occ = 0\n",
      "init E= -39.1601958959696\n",
      "HOMO (A') = -0.247684590735776  LUMO (A') = 0.138980389278709\n",
      "cycle= 1 E= -39.5484352765214  delta_E= -0.388  |g|= 0.0945  |ddm|= 1.51\n",
      "HOMO (A') = -0.3382327407481  LUMO (A') = 0.273060779223379\n",
      "cycle= 2 E= -39.5530452869242  delta_E= -0.00461  |g|= 0.0292  |ddm|= 0.106\n",
      "HOMO (A') = -0.341045046242643  LUMO (A') = 0.274457713061729\n",
      "cycle= 3 E= -39.5534070489001  delta_E= -0.000362  |g|= 0.00944  |ddm|= 0.0395\n",
      "HOMO (A') = -0.343064526907567  LUMO (A') = 0.272430359461096\n",
      "cycle= 4 E= -39.5534410887052  delta_E= -3.4e-05  |g|= 0.000375  |ddm|= 0.00907\n",
      "HOMO (A') = -0.34265396604112  LUMO (A') = 0.272822731252711\n",
      "cycle= 5 E= -39.5534411730979  delta_E= -8.44e-08  |g|= 2.62e-05  |ddm|= 0.000585\n",
      "HOMO (A') = -0.342644437690275  LUMO (A') = 0.272845320773709\n",
      "cycle= 6 E= -39.5534411735644  delta_E= -4.66e-10  |g|= 1.6e-06  |ddm|= 4.58e-05\n",
      "HOMO (A') = -0.342644127946206  LUMO (A') = 0.27284504325309\n",
      "Extra cycle  E= -39.5534411735659  delta_E= -1.47e-12  |g|= 4.46e-07  |ddm|= 2.52e-06\n",
      "converged SCF energy = -39.5534411735659\n"
     ]
    },
    {
     "data": {
      "text/plain": [
       "SymAdaptedROHF-ROHF-RHF object of <class 'pyscf.scf.hf_symm.SymAdaptedROHF'>"
      ]
     },
     "execution_count": 2,
     "metadata": {},
     "output_type": "execute_result"
    }
   ],
   "source": [
    "import pyscf\n",
    "from pyscf import tools, symm\n",
    "import numpy as np\n",
    "\n",
    "scf_energy=[]\n",
    "atoms = []\n",
    "r0 = 0.8 \n",
    "basis = \"6-31G\"\n",
    "basis=\"sto3g\"\n",
    "molecule = \"\"\"\n",
    "    C   0.63 0.63 0.63\n",
    "    H   1.26 1.26 0.0\n",
    "    H   0.0 1.26 1.26\n",
    "    H   1.26 0.0 1.26\n",
    "    H   -0.4  -0.4 -0.4\n",
    "    \"\"\"\n",
    "print(molecule)\n",
    "basis = basis\n",
    "mol = pyscf.gto.Mole(\n",
    "    atom    =   molecule,\n",
    "    symmetry=True,\n",
    "    spin    =   0,\n",
    "    charge  =   0,\n",
    "    basis   =   basis)\n",
    "mol.build()\n",
    "mf = pyscf.scf.ROHF(mol)\n",
    "mf.verbose = 4\n",
    "mf.conv_tol = 1e-8\n",
    "mf.conv_tol_grad = 1e-5\n",
    "mf.chkfile = \"scf.fchk\"\n",
    "mf.init_guess = \"sad\"\n",
    "mf.run(max_cycle=200)\n",
    "\n",
    "\n",
    "\n",
    "\n",
    "\n",
    "\n"
   ]
  },
  {
   "cell_type": "code",
   "execution_count": 6,
   "metadata": {},
   "outputs": [
    {
     "name": "stdout",
     "output_type": "stream",
     "text": [
      "9\n",
      "    A'   0    7\n",
      "    A\"   1    2\n",
      "   A', Occ =     4, Vir = 3\n",
      "[0 0 0 1 0 0 0 1 0]\n",
      "[0, 1]\n",
      "[\"A'\", 'A\"']\n",
      "   A\", Occ =     1, Vir = 1\n",
      "[0 0 0 1 0 0 0 1 0]\n",
      "[0, 1]\n",
      "[\"A'\", 'A\"']\n",
      "[0, 1]\n",
      "[\"A'\", 'A\"']\n"
     ]
    }
   ],
   "source": [
    "norb = mf.mo_coeff.shape[0]\n",
    "    #print(mf.mo_coeff)\n",
    "print(norb)\n",
    "pyscf.tools.molden.from_mo(mol, \"C_RHF_CH4.molden\", mf.mo_coeff)\n",
    "for s,i,c in zip(mol.irrep_name, mol.irrep_id, mol.symm_orb):\n",
    "    print(\" %5s %3i %4i\"%(s, i, c.shape[1]))\n",
    "\n",
    "def myocc(mf):    \n",
    "    mol = mf.mol\n",
    "    irrep_id = mol.irrep_id\n",
    "    so = mol.symm_orb\n",
    "    orbsym = symm.label_orb_symm(mol, irrep_id, so, mf.mo_coeff)\n",
    "    occsym = np.array(orbsym)[mf.mo_occ==2]\n",
    "    virsym = np.array(orbsym)[mf.mo_occ==0]\n",
    "    for ir,irname in enumerate(mol.irrep_name):\n",
    "        print('%5s, Occ = %5d, Vir = %d' % (irname, sum(occsym==ir), sum(virsym==ir)))\n",
    "        print(orbsym)\n",
    "        print(mol.irrep_id)\n",
    "        print(mol.irrep_name)\n",
    "myocc(mf)"
   ]
  },
  {
   "cell_type": "code",
   "execution_count": null,
   "metadata": {},
   "outputs": [],
   "source": []
  }
 ],
 "metadata": {
  "kernelspec": {
   "display_name": "Python 3",
   "language": "python",
   "name": "python3"
  },
  "language_info": {
   "codemirror_mode": {
    "name": "ipython",
    "version": 3
   },
   "file_extension": ".py",
   "mimetype": "text/x-python",
   "name": "python",
   "nbconvert_exporter": "python",
   "pygments_lexer": "ipython3",
   "version": "3.10.6"
  },
  "orig_nbformat": 4,
  "vscode": {
   "interpreter": {
    "hash": "916dbcbb3f70747c44a77c7bcd40155683ae19c65e1c03b4aa3499c5328201f1"
   }
  }
 },
 "nbformat": 4,
 "nbformat_minor": 2
}
