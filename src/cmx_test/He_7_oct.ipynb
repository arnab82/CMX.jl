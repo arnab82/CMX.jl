{
 "cells": [
  {
   "cell_type": "code",
   "execution_count": 7,
   "id": "6bee6a58",
   "metadata": {},
   "outputs": [
    {
     "ename": "ArgumentError",
     "evalue": "ArgumentError: Package FermiCG not found in current path.\n- Run `import Pkg; Pkg.add(\"FermiCG\")` to install the FermiCG package.",
     "output_type": "error",
     "traceback": [
      "ArgumentError: Package FermiCG not found in current path.\n",
      "- Run `import Pkg; Pkg.add(\"FermiCG\")` to install the FermiCG package.\n",
      "\n",
      "Stacktrace:\n",
      "  [1] macro expansion\n",
      "    @ ./loading.jl:1163 [inlined]\n",
      "  [2] macro expansion\n",
      "    @ ./lock.jl:223 [inlined]\n",
      "  [3] require(into::Module, mod::Symbol)\n",
      "    @ Base ./loading.jl:1144\n",
      "  [4] eval\n",
      "    @ ./boot.jl:368 [inlined]\n",
      "  [5] include_string(mapexpr::typeof(REPL.softscope), mod::Module, code::String, filename::String)\n",
      "    @ Base ./loading.jl:1428\n",
      "  [6] #invokelatest#2\n",
      "    @ ./essentials.jl:729 [inlined]\n",
      "  [7] invokelatest\n",
      "    @ ./essentials.jl:726 [inlined]\n",
      "  [8] (::VSCodeServer.var\"#198#199\"{VSCodeServer.NotebookRunCellArguments, String})()\n",
      "    @ VSCodeServer ~/.vscode/extensions/julialang.language-julia-1.38.2/scripts/packages/VSCodeServer/src/serve_notebook.jl:19\n",
      "  [9] withpath(f::VSCodeServer.var\"#198#199\"{VSCodeServer.NotebookRunCellArguments, String}, path::String)\n",
      "    @ VSCodeServer ~/.vscode/extensions/julialang.language-julia-1.38.2/scripts/packages/VSCodeServer/src/repl.jl:249\n",
      " [10] notebook_runcell_request(conn::VSCodeServer.JSONRPC.JSONRPCEndpoint{Base.PipeEndpoint, Base.PipeEndpoint}, params::VSCodeServer.NotebookRunCellArguments)\n",
      "    @ VSCodeServer ~/.vscode/extensions/julialang.language-julia-1.38.2/scripts/packages/VSCodeServer/src/serve_notebook.jl:13\n",
      " [11] dispatch_msg(x::VSCodeServer.JSONRPC.JSONRPCEndpoint{Base.PipeEndpoint, Base.PipeEndpoint}, dispatcher::VSCodeServer.JSONRPC.MsgDispatcher, msg::Dict{String, Any})\n",
      "    @ VSCodeServer.JSONRPC ~/.vscode/extensions/julialang.language-julia-1.38.2/scripts/packages/JSONRPC/src/typed.jl:67\n",
      " [12] serve_notebook(pipename::String, outputchannel_logger::Base.CoreLogging.SimpleLogger; crashreporting_pipename::String)\n",
      "    @ VSCodeServer ~/.vscode/extensions/julialang.language-julia-1.38.2/scripts/packages/VSCodeServer/src/serve_notebook.jl:139\n",
      " [13] top-level scope\n",
      "    @ ~/.vscode/extensions/julialang.language-julia-1.38.2/scripts/notebook/notebook.jl:32"
     ]
    }
   ],
   "source": [
    "# You will need to have FermiCG repo cloned to your computer\n",
    "# https://github.com/nmayhall-vt/FermiCG.git\n",
    "# Change the path to your local FermiCG repo below to activate (this is only for Jupyter Notebook)\n",
    "using FermiCG\n",
    "using QCBase\n",
    "using ClusterMeanField\n",
    "using InCoreIntegrals\n",
    "using RDM\n",
    "\n",
    "using NPZ\n",
    "using PyCall\n",
    "using LinearAlgebra\n",
    "using Printf\n",
    "using JLD2\n"
   ]
  },
  {
   "cell_type": "code",
   "execution_count": 2,
   "id": "8d2382c6",
   "metadata": {},
   "outputs": [
    {
     "ename": "UndefVarError",
     "evalue": "UndefVarError: Atom not defined",
     "output_type": "error",
     "traceback": [
      "UndefVarError: Atom not defined\n",
      "\n",
      "Stacktrace:\n",
      " [1] top-level scope\n",
      "   @ ~/FermiCG/He_7_oct.ipynb:13"
     ]
    }
   ],
   "source": [
    "molecule = \"\n",
    "He       0.0000000000000000       0.0000000000000000       0.0000000000000000 \n",
    "He       2.8065068164350007       0.0000000000000000       0.0000000000000000 \n",
    "He       0.0000000000000000       2.8065068164350007       0.0000000000000000 \n",
    "He       2.8065068164350007       2.8065068164350007       0.0000000000000000 \n",
    "He       1.4032534049100001       1.4032534049100001       1.9845000000000008 \n",
    "He       1.4032534049100001       1.4032534049100001      -1.9845000000000008 \n",
    "He       1.4032534049100001       1.4032534049100001       0.0000000000000000 \n",
    "\"\n",
    "atoms = []\n",
    "for (li,line) in enumerate(split(rstrip(lstrip(molecule)), \"\\n\"))\n",
    "    l = split(line)\n",
    "    push!(atoms, Atom(li, l[1], parse.(Float64,l[2:4])))\n",
    "end\n",
    "\n",
    "# pick a basis set\n",
    "basis = \"cc-pvdz\" #5 orbs on each He\n",
    "\n",
    "# Create FermiCG.Molecule type\n",
    "mol = Molecule(0,1,atoms,basis)\n",
    "\n",
    "# Run Hartree Fock\n",
    "pyscf = pyimport(\"pyscf\")\n",
    "pymol = pyscf.gto.Mole(atom=molecule, spin=0, charge=0, basis=basis)\n",
    "pymol.build()\n",
    "mf = pyscf.scf.RHF(pymol).run()\n",
    "s = mf.get_ovlp(pymol)\n",
    "\n",
    "# This is lowdin localization to get a set of orthogonal Atomic Orbitals\n",
    "lo = pyimport(\"pyscf.lo.orth\")\n",
    "lo_ao = lo.lowdin(s)\n",
    "println(\"size of Lowdin ortho AO's:\", size(lo_ao))\n",
    "\n",
    "# This function writes the orbitals to a molden file\n",
    "# You can now load this file into jmol or other viewing software\n",
    "FermiCG.pyscf_write_molden(mol, lo_ao, filename=\"lowdin_ao_ccpvdz.molden\")\n",
    "\n",
    "# write fci dump file from the modified mo coefficients\n",
    "# this is useful because the FermiCG can read in this dump file and not have to recompute the integrals\n",
    "tools = pyimport(\"pyscf.tools\")\n",
    "tools.fcidump.from_mo(pymol, \"fcidump.he07_oct\", lo_ao)\n",
    "\n",
    "# Can just read in pyscf dump file for integrals (once you have already run an scf calculation)\n",
    "pyscf = pyimport(\"pyscf\");\n",
    "fcidump = pyimport(\"pyscf.tools.fcidump\");\n",
    "ctx = fcidump.read(\"fcidump.he07_oct\");\n",
    "h = ctx[\"H1\"];\n",
    "g = ctx[\"H2\"];\n",
    "ecore = ctx[\"ECORE\"];\n",
    "g = pyscf.ao2mo.restore(\"1\", g, size(h,2))\n",
    "\n",
    "# This creates our integral object that is in InCoreIntegrals julia repo \n",
    "# https://github.com/nmayhall-vt/InCoreIntegrals.jl\n",
    "ints = InCoreInts(ecore,h,g);\n",
    "\n",
    "# Define clusters and intial Fock space for inital CMF calc for 5 orbs each He\n",
    "# clusters_list is where you would manually select which orbitals are in which cluster\n",
    "# for these helium systems it is easy because we are just using atomic orbitals so we\n",
    "# know that if there are 5 AOs for each helium atom then we know orbitals 1-5 will be in cluster 1\n",
    "cluster_list = [(1:5),(6:10), (11:15), (16:20), (21:25), (26:30), (31:35)]\n",
    "\n",
    "# This is the number of alpha and beta electrons per cluster so (1,1) means (1alpha, 1beta)\n",
    "init_fspace = [(1,1),(1,1),(1,1),(1,1),(1,1),(1,1),(1,1)]\n",
    "rdm1 = zeros(size(ints.h1))\n",
    "\n",
    "# have to define total alpha and beta electrons\n",
    "na=7\n",
    "nb=7\n",
    "\n",
    "# Define clusters now using FermiCG code\n",
    "clusters = [MOCluster(i,collect(cluster_list[i])) for i = 1:length(cluster_list)]\n",
    "display(clusters)\n",
    "\n",
    "e_cmf, U_cmf, d1  = ClusterMeanField.cmf_oo_diis(ints, clusters, init_fspace, RDM1(rdm1, rdm1), verbose=0);\n",
    "\n",
    "# rotate the integrals by the cmf calculation\n",
    "ints = orbital_rotation(ints,U_cmf)\n",
    "\n",
    "# rotate orbitlas by the cmf calculation\n",
    "C_cmf = lo_ao*U_cmf\n",
    "\n",
    "# can write these to a molden file to visualize cmf orbitals\n",
    "FermiCG.pyscf_write_molden(mol, C_cmf, filename=\"cmf.molden\")\n",
    "\n",
    "# save the cmf data using JLD2\n",
    "@save  \"cmf_diis.jld2\" ints d1 clusters init_fspace C_cmf"
   ]
  },
  {
   "cell_type": "code",
   "execution_count": 6,
   "id": "146a285b",
   "metadata": {},
   "outputs": [
    {
     "name": "stdout",
     "output_type": "stream",
     "text": [
      "Parsing fcidump.he07_oct\n"
     ]
    },
    {
     "name": "stderr",
     "output_type": "stream",
     "text": [
      "/Users/nicole/opt/anaconda3/envs/tpsci/lib/python3.7/site-packages/pyscf/lib/misc.py:106: UserWarning: OpenMP is not available. Setting omp_threads to 1 has no effects.\n",
      "  'Setting omp_threads to %s has no effects.' % n)\n"
     ]
    }
   ],
   "source": [
    "# Now these are some things you can play around with and change to help understand the code\n",
    "# Change basis set (try larger and smaller ones), this will effect how you cluster the orbitals\n",
    "# rerun cmf with new basis set, what changes?"
   ]
  },
  {
   "cell_type": "code",
   "execution_count": null,
   "id": "4f1d934f",
   "metadata": {},
   "outputs": [],
   "source": [
    "# Try a different cmf solver other than diis and see how it converges\n",
    "# the Diis solver has its own function call while the other solvers have the following function call:\n",
    "# e_cmf, U, d1 = FermiCG.cmf_oo(ints, clusters, init_fspace, RDM1(rdm1, rdm1), max_iter_oo=100, verbose=0, gconv=1e-6, method=\"bfgs\", sequential=true);\n",
    "\n",
    "# try bfgs, congjucate gradient (key words can be found in the ClusterMeanField julia repo)\n",
    "# https://github.com/nmayhall-vt/ClusterMeanField.jl\n",
    "# try turning sequencial to true and false, what does this do? what is changing?"
   ]
  }
 ],
 "metadata": {
  "kernelspec": {
   "display_name": "Julia 1.8.5",
   "language": "julia",
   "name": "julia-1.8"
  },
  "language_info": {
   "file_extension": ".jl",
   "mimetype": "application/julia",
   "name": "julia",
   "version": "1.8.5"
  }
 },
 "nbformat": 4,
 "nbformat_minor": 5
}
